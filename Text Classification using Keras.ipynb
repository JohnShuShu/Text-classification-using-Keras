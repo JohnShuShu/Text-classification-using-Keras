{
 "cells": [
  {
   "cell_type": "code",
   "execution_count": 1,
   "metadata": {},
   "outputs": [],
   "source": [
    "import tensorflow as tf\n",
    "from tensorflow import keras"
   ]
  },
  {
   "cell_type": "code",
   "execution_count": 2,
   "metadata": {},
   "outputs": [
    {
     "name": "stdout",
     "output_type": "stream",
     "text": [
      "1.8.0\n"
     ]
    }
   ],
   "source": [
    "import numpy \n",
    "print(tf.__version__)"
   ]
  },
  {
   "cell_type": "markdown",
   "metadata": {},
   "source": [
    "##  step 1: download the dataset"
   ]
  },
  {
   "cell_type": "code",
   "execution_count": 3,
   "metadata": {},
   "outputs": [],
   "source": [
    "imdb = keras.datasets.imdb"
   ]
  },
  {
   "cell_type": "code",
   "execution_count": 4,
   "metadata": {},
   "outputs": [],
   "source": [
    "(train_data,train_labels),(test_data,test_labels) = imdb.load_data(num_words=10000)"
   ]
  },
  {
   "cell_type": "markdown",
   "metadata": {},
   "source": [
    "### Lets explore the data we have.."
   ]
  },
  {
   "cell_type": "code",
   "execution_count": 13,
   "metadata": {},
   "outputs": [
    {
     "name": "stdout",
     "output_type": "stream",
     "text": [
      "Shape of training data: (25000,)\n",
      "shape of labels: (25000,)\n",
      "Shape of training data: (25000,)\n",
      "shape of labels: (25000,)\n"
     ]
    }
   ],
   "source": [
    "print(\"Shape of training data: {}\".format(train_data.shape))\n",
    "print(\"shape of labels: {}\".format(train_labels.shape))\n",
    "print(\"Shape of training data: {}\".format(test_data.shape))\n",
    "print(\"shape of labels: {}\".format(test_labels.shape))"
   ]
  },
  {
   "cell_type": "code",
   "execution_count": 5,
   "metadata": {},
   "outputs": [
    {
     "data": {
      "text/plain": [
       "[1,\n",
       " 14,\n",
       " 22,\n",
       " 16,\n",
       " 43,\n",
       " 530,\n",
       " 973,\n",
       " 1622,\n",
       " 1385,\n",
       " 65,\n",
       " 458,\n",
       " 4468,\n",
       " 66,\n",
       " 3941,\n",
       " 4,\n",
       " 173,\n",
       " 36,\n",
       " 256,\n",
       " 5,\n",
       " 25,\n",
       " 100,\n",
       " 43,\n",
       " 838,\n",
       " 112,\n",
       " 50,\n",
       " 670,\n",
       " 2,\n",
       " 9,\n",
       " 35,\n",
       " 480,\n",
       " 284,\n",
       " 5,\n",
       " 150,\n",
       " 4,\n",
       " 172,\n",
       " 112,\n",
       " 167,\n",
       " 2,\n",
       " 336,\n",
       " 385,\n",
       " 39,\n",
       " 4,\n",
       " 172,\n",
       " 4536,\n",
       " 1111,\n",
       " 17,\n",
       " 546,\n",
       " 38,\n",
       " 13,\n",
       " 447,\n",
       " 4,\n",
       " 192,\n",
       " 50,\n",
       " 16,\n",
       " 6,\n",
       " 147,\n",
       " 2025,\n",
       " 19,\n",
       " 14,\n",
       " 22,\n",
       " 4,\n",
       " 1920,\n",
       " 4613,\n",
       " 469,\n",
       " 4,\n",
       " 22,\n",
       " 71,\n",
       " 87,\n",
       " 12,\n",
       " 16,\n",
       " 43,\n",
       " 530,\n",
       " 38,\n",
       " 76,\n",
       " 15,\n",
       " 13,\n",
       " 1247,\n",
       " 4,\n",
       " 22,\n",
       " 17,\n",
       " 515,\n",
       " 17,\n",
       " 12,\n",
       " 16,\n",
       " 626,\n",
       " 18,\n",
       " 2,\n",
       " 5,\n",
       " 62,\n",
       " 386,\n",
       " 12,\n",
       " 8,\n",
       " 316,\n",
       " 8,\n",
       " 106,\n",
       " 5,\n",
       " 4,\n",
       " 2223,\n",
       " 5244,\n",
       " 16,\n",
       " 480,\n",
       " 66,\n",
       " 3785,\n",
       " 33,\n",
       " 4,\n",
       " 130,\n",
       " 12,\n",
       " 16,\n",
       " 38,\n",
       " 619,\n",
       " 5,\n",
       " 25,\n",
       " 124,\n",
       " 51,\n",
       " 36,\n",
       " 135,\n",
       " 48,\n",
       " 25,\n",
       " 1415,\n",
       " 33,\n",
       " 6,\n",
       " 22,\n",
       " 12,\n",
       " 215,\n",
       " 28,\n",
       " 77,\n",
       " 52,\n",
       " 5,\n",
       " 14,\n",
       " 407,\n",
       " 16,\n",
       " 82,\n",
       " 2,\n",
       " 8,\n",
       " 4,\n",
       " 107,\n",
       " 117,\n",
       " 5952,\n",
       " 15,\n",
       " 256,\n",
       " 4,\n",
       " 2,\n",
       " 7,\n",
       " 3766,\n",
       " 5,\n",
       " 723,\n",
       " 36,\n",
       " 71,\n",
       " 43,\n",
       " 530,\n",
       " 476,\n",
       " 26,\n",
       " 400,\n",
       " 317,\n",
       " 46,\n",
       " 7,\n",
       " 4,\n",
       " 2,\n",
       " 1029,\n",
       " 13,\n",
       " 104,\n",
       " 88,\n",
       " 4,\n",
       " 381,\n",
       " 15,\n",
       " 297,\n",
       " 98,\n",
       " 32,\n",
       " 2071,\n",
       " 56,\n",
       " 26,\n",
       " 141,\n",
       " 6,\n",
       " 194,\n",
       " 7486,\n",
       " 18,\n",
       " 4,\n",
       " 226,\n",
       " 22,\n",
       " 21,\n",
       " 134,\n",
       " 476,\n",
       " 26,\n",
       " 480,\n",
       " 5,\n",
       " 144,\n",
       " 30,\n",
       " 5535,\n",
       " 18,\n",
       " 51,\n",
       " 36,\n",
       " 28,\n",
       " 224,\n",
       " 92,\n",
       " 25,\n",
       " 104,\n",
       " 4,\n",
       " 226,\n",
       " 65,\n",
       " 16,\n",
       " 38,\n",
       " 1334,\n",
       " 88,\n",
       " 12,\n",
       " 16,\n",
       " 283,\n",
       " 5,\n",
       " 16,\n",
       " 4472,\n",
       " 113,\n",
       " 103,\n",
       " 32,\n",
       " 15,\n",
       " 16,\n",
       " 5345,\n",
       " 19,\n",
       " 178,\n",
       " 32]"
      ]
     },
     "execution_count": 5,
     "metadata": {},
     "output_type": "execute_result"
    }
   ],
   "source": [
    "train_data[0]"
   ]
  },
  {
   "cell_type": "code",
   "execution_count": 6,
   "metadata": {},
   "outputs": [
    {
     "data": {
      "text/plain": [
       "1"
      ]
     },
     "execution_count": 6,
     "metadata": {},
     "output_type": "execute_result"
    }
   ],
   "source": [
    "train_labels[0]"
   ]
  },
  {
   "cell_type": "code",
   "execution_count": 7,
   "metadata": {},
   "outputs": [
    {
     "data": {
      "text/plain": [
       "dict"
      ]
     },
     "execution_count": 7,
     "metadata": {},
     "output_type": "execute_result"
    }
   ],
   "source": [
    "## since the data form all represents the interger index we need to covert back our data into words \n",
    "word_index = imdb.get_word_index()\n",
    "type(word_index)"
   ]
  },
  {
   "cell_type": "code",
   "execution_count": 8,
   "metadata": {},
   "outputs": [],
   "source": [
    "word_index = {k:(v+3) for k,v in word_index.items()} \n",
    "word_index[\"<PAD>\"] = 0\n",
    "word_index[\"<START>\"] = 1\n",
    "word_index[\"<UNK>\"] = 2  # unknown\n",
    "word_index[\"<UNUSED>\"] = 3"
   ]
  },
  {
   "cell_type": "code",
   "execution_count": 9,
   "metadata": {},
   "outputs": [],
   "source": [
    "## here is the reverse dictionary\n",
    "reverse_word_index = dict([(value, key) for (key, value) in word_index.items()])"
   ]
  },
  {
   "cell_type": "code",
   "execution_count": 11,
   "metadata": {},
   "outputs": [],
   "source": [
    "## lets decode the sentences \n",
    "def decode_review(text):\n",
    "    return ' '.join([reverse_word_index.get(i,'?') for i in text])"
   ]
  },
  {
   "cell_type": "code",
   "execution_count": 12,
   "metadata": {},
   "outputs": [
    {
     "data": {
      "text/plain": [
       "u\"<START> this film was just brilliant casting location scenery story direction everyone's really suited the part they played and you could just imagine being there robert <UNK> is an amazing actor and now the same being director <UNK> father came from the same scottish island as myself so i loved the fact there was a real connection with this film the witty remarks throughout the film were great it was just brilliant so much that i bought the film as soon as it was released for <UNK> and would recommend it to everyone to watch and the fly fishing was amazing really cried at the end it was so sad and you know what they say if you cry at a film it must have been good and this definitely was also <UNK> to the two little boy's that played the <UNK> of norman and paul they were just brilliant children are often left out of the <UNK> list i think because the stars that play them all grown up are such a big profile for the whole film but these children are amazing and should be praised for what they have done don't you think the whole story was so lovely because it was true and was someone's life after all that was shared with us all\""
      ]
     },
     "execution_count": 12,
     "metadata": {},
     "output_type": "execute_result"
    }
   ],
   "source": [
    "decode_review(train_data[0])"
   ]
  },
  {
   "cell_type": "markdown",
   "metadata": {},
   "source": [
    "### Data cleansing step"
   ]
  },
  {
   "cell_type": "code",
   "execution_count": 16,
   "metadata": {},
   "outputs": [],
   "source": [
    "## since the data in the set is 25000 we will not use one hot encoding method since it will make a 25,000 x 10,000 matrix\n",
    "## it will be big so lets go with the padding approach. \n",
    "## padding will assign a max length for a each reviews and we will have the matrix comparatively smaller. \n",
    "train_data = keras.preprocessing.sequence.pad_sequences(train_data,\n",
    "                                                     value=word_index[\"<PAD>\"],\n",
    "                                                     padding='post',\n",
    "                                                     maxlen=256)\n",
    "test_data = keras.preprocessing.sequence.pad_sequences(test_data,\n",
    "                                                    value=word_index[\"<PAD>\"],\n",
    "                                                     padding='post',\n",
    "                                                     maxlen=256)"
   ]
  },
  {
   "cell_type": "code",
   "execution_count": 19,
   "metadata": {},
   "outputs": [
    {
     "data": {
      "text/plain": [
       "(25000, 256)"
      ]
     },
     "execution_count": 19,
     "metadata": {},
     "output_type": "execute_result"
    }
   ],
   "source": [
    "train_data.shape"
   ]
  },
  {
   "cell_type": "code",
   "execution_count": 20,
   "metadata": {},
   "outputs": [
    {
     "data": {
      "text/plain": [
       "array([   1,   14,   22,   16,   43,  530,  973, 1622, 1385,   65,  458,\n",
       "       4468,   66, 3941,    4,  173,   36,  256,    5,   25,  100,   43,\n",
       "        838,  112,   50,  670,    2,    9,   35,  480,  284,    5,  150,\n",
       "          4,  172,  112,  167,    2,  336,  385,   39,    4,  172, 4536,\n",
       "       1111,   17,  546,   38,   13,  447,    4,  192,   50,   16,    6,\n",
       "        147, 2025,   19,   14,   22,    4, 1920, 4613,  469,    4,   22,\n",
       "         71,   87,   12,   16,   43,  530,   38,   76,   15,   13, 1247,\n",
       "          4,   22,   17,  515,   17,   12,   16,  626,   18,    2,    5,\n",
       "         62,  386,   12,    8,  316,    8,  106,    5,    4, 2223, 5244,\n",
       "         16,  480,   66, 3785,   33,    4,  130,   12,   16,   38,  619,\n",
       "          5,   25,  124,   51,   36,  135,   48,   25, 1415,   33,    6,\n",
       "         22,   12,  215,   28,   77,   52,    5,   14,  407,   16,   82,\n",
       "          2,    8,    4,  107,  117, 5952,   15,  256,    4,    2,    7,\n",
       "       3766,    5,  723,   36,   71,   43,  530,  476,   26,  400,  317,\n",
       "         46,    7,    4,    2, 1029,   13,  104,   88,    4,  381,   15,\n",
       "        297,   98,   32, 2071,   56,   26,  141,    6,  194, 7486,   18,\n",
       "          4,  226,   22,   21,  134,  476,   26,  480,    5,  144,   30,\n",
       "       5535,   18,   51,   36,   28,  224,   92,   25,  104,    4,  226,\n",
       "         65,   16,   38, 1334,   88,   12,   16,  283,    5,   16, 4472,\n",
       "        113,  103,   32,   15,   16, 5345,   19,  178,   32,    0,    0,\n",
       "          0,    0,    0,    0,    0,    0,    0,    0,    0,    0,    0,\n",
       "          0,    0,    0,    0,    0,    0,    0,    0,    0,    0,    0,\n",
       "          0,    0,    0,    0,    0,    0,    0,    0,    0,    0,    0,\n",
       "          0,    0,    0], dtype=int32)"
      ]
     },
     "execution_count": 20,
     "metadata": {},
     "output_type": "execute_result"
    }
   ],
   "source": [
    "train_data[0]"
   ]
  },
  {
   "cell_type": "markdown",
   "metadata": {},
   "source": [
    "## Building the model \n",
    "Two basic questions:\n",
    "1. How many layers?\n",
    "2. How many hidden units?\n",
    "input data consists of array of word indices we have to predict the labels whether its 0 or 1\n",
    "so lets go with the model \n"
   ]
  },
  {
   "cell_type": "code",
   "execution_count": 21,
   "metadata": {},
   "outputs": [
    {
     "name": "stdout",
     "output_type": "stream",
     "text": [
      "_________________________________________________________________\n",
      "Layer (type)                 Output Shape              Param #   \n",
      "=================================================================\n",
      "embedding_1 (Embedding)      (None, None, 16)          160000    \n",
      "_________________________________________________________________\n",
      "global_average_pooling1d_1 ( (None, 16)                0         \n",
      "_________________________________________________________________\n",
      "dense_1 (Dense)              (None, 16)                272       \n",
      "_________________________________________________________________\n",
      "dense_2 (Dense)              (None, 1)                 17        \n",
      "=================================================================\n",
      "Total params: 160,289\n",
      "Trainable params: 160,289\n",
      "Non-trainable params: 0\n",
      "_________________________________________________________________\n"
     ]
    }
   ],
   "source": [
    "vocab_size = 10000\n",
    "\n",
    "model = keras.Sequential()\n",
    "## The resulting dimensions are: (batch, sequence, embedding).\n",
    "## the input is a batch of input sequences, sequence is the number of length of sequencem, embedding is 16\n",
    "model.add(keras.layers.Embedding(vocab_size, 16))\n",
    "## the GlobalAveragePooling is to handle the variable length of the inputs like padding. \n",
    "model.add(keras.layers.GlobalAveragePooling1D())\n",
    "## the number of hidden units= 16 we use relu here\n",
    "model.add(keras.layers.Dense(16, activation=tf.nn.relu))\n",
    "## last layer contains only single hidden layer. \n",
    "model.add(keras.layers.Dense(1, activation=tf.nn.sigmoid))\n",
    "\n",
    "model.summary()"
   ]
  },
  {
   "cell_type": "code",
   "execution_count": 22,
   "metadata": {},
   "outputs": [],
   "source": [
    "## since its a simple classification problem \n",
    "## Generally binary_crossentropy is better dealing with the probabilities. \n",
    "## for the regression problems we will use the  mean_square_error funtion.\n",
    "model.compile(optimizer=tf.train.AdamOptimizer(),\n",
    "             loss='binary_crossentropy',\n",
    "             metrics=['accuracy'])"
   ]
  },
  {
   "cell_type": "code",
   "execution_count": 23,
   "metadata": {},
   "outputs": [],
   "source": [
    "## lets create the validation set\n",
    "x_val = train_data[:10000]\n",
    "partial_x_train = train_data[10000:]\n",
    "\n",
    "y_val = train_labels[:10000]\n",
    "partial_y_train = train_labels[10000:]"
   ]
  },
  {
   "cell_type": "code",
   "execution_count": 24,
   "metadata": {},
   "outputs": [
    {
     "name": "stdout",
     "output_type": "stream",
     "text": [
      "Train on 15000 samples, validate on 10000 samples\n",
      "Epoch 1/40\n",
      "15000/15000 [==============================] - 1s 63us/step - loss: 0.6932 - acc: 0.5099 - val_loss: 0.6918 - val_acc: 0.5757\n",
      "Epoch 2/40\n",
      "15000/15000 [==============================] - 1s 47us/step - loss: 0.6909 - acc: 0.5582 - val_loss: 0.6898 - val_acc: 0.6069\n",
      "Epoch 3/40\n",
      "15000/15000 [==============================] - 1s 47us/step - loss: 0.6884 - acc: 0.5849 - val_loss: 0.6877 - val_acc: 0.5889\n",
      "Epoch 4/40\n",
      "15000/15000 [==============================] - 1s 42us/step - loss: 0.6852 - acc: 0.6261 - val_loss: 0.6854 - val_acc: 0.5148\n",
      "Epoch 5/40\n",
      "15000/15000 [==============================] - 1s 44us/step - loss: 0.6811 - acc: 0.6771 - val_loss: 0.6795 - val_acc: 0.7205\n",
      "Epoch 6/40\n",
      "15000/15000 [==============================] - 1s 47us/step - loss: 0.6748 - acc: 0.7323 - val_loss: 0.6727 - val_acc: 0.7256\n",
      "Epoch 7/40\n",
      "15000/15000 [==============================] - 1s 41us/step - loss: 0.6658 - acc: 0.7414 - val_loss: 0.6632 - val_acc: 0.7422\n",
      "Epoch 8/40\n",
      "15000/15000 [==============================] - 1s 40us/step - loss: 0.6531 - acc: 0.7589 - val_loss: 0.6501 - val_acc: 0.7375\n",
      "Epoch 9/40\n",
      "15000/15000 [==============================] - 1s 45us/step - loss: 0.6364 - acc: 0.7675 - val_loss: 0.6322 - val_acc: 0.7574\n",
      "Epoch 10/40\n",
      "15000/15000 [==============================] - 1s 45us/step - loss: 0.6146 - acc: 0.7801 - val_loss: 0.6104 - val_acc: 0.7677\n",
      "Epoch 11/40\n",
      "15000/15000 [==============================] - 1s 48us/step - loss: 0.5890 - acc: 0.7776 - val_loss: 0.5882 - val_acc: 0.7625\n",
      "Epoch 12/40\n",
      "15000/15000 [==============================] - 1s 46us/step - loss: 0.5609 - acc: 0.7930 - val_loss: 0.5591 - val_acc: 0.7859\n",
      "Epoch 13/40\n",
      "15000/15000 [==============================] - 1s 49us/step - loss: 0.5300 - acc: 0.8121 - val_loss: 0.5326 - val_acc: 0.7998\n",
      "Epoch 14/40\n",
      "15000/15000 [==============================] - 1s 46us/step - loss: 0.5001 - acc: 0.8233 - val_loss: 0.5059 - val_acc: 0.8109\n",
      "Epoch 15/40\n",
      "15000/15000 [==============================] - 1s 49us/step - loss: 0.4708 - acc: 0.8350 - val_loss: 0.4798 - val_acc: 0.8181\n",
      "Epoch 16/40\n",
      "15000/15000 [==============================] - 1s 48us/step - loss: 0.4435 - acc: 0.8445 - val_loss: 0.4559 - val_acc: 0.8322\n",
      "Epoch 17/40\n",
      "15000/15000 [==============================] - 1s 47us/step - loss: 0.4170 - acc: 0.8579 - val_loss: 0.4346 - val_acc: 0.8399\n",
      "Epoch 18/40\n",
      "15000/15000 [==============================] - 1s 46us/step - loss: 0.3936 - acc: 0.8665 - val_loss: 0.4151 - val_acc: 0.8460\n",
      "Epoch 19/40\n",
      "15000/15000 [==============================] - 1s 47us/step - loss: 0.3727 - acc: 0.8736 - val_loss: 0.3983 - val_acc: 0.8495\n",
      "Epoch 20/40\n",
      "15000/15000 [==============================] - 1s 47us/step - loss: 0.3540 - acc: 0.8791 - val_loss: 0.3836 - val_acc: 0.8541\n",
      "Epoch 21/40\n",
      "15000/15000 [==============================] - 1s 48us/step - loss: 0.3374 - acc: 0.8841 - val_loss: 0.3709 - val_acc: 0.8604\n",
      "Epoch 22/40\n",
      "15000/15000 [==============================] - 1s 46us/step - loss: 0.3224 - acc: 0.8887 - val_loss: 0.3600 - val_acc: 0.8629\n",
      "Epoch 23/40\n",
      "15000/15000 [==============================] - 1s 47us/step - loss: 0.3094 - acc: 0.8910 - val_loss: 0.3510 - val_acc: 0.8649\n",
      "Epoch 24/40\n",
      "15000/15000 [==============================] - 1s 46us/step - loss: 0.2971 - acc: 0.8955 - val_loss: 0.3425 - val_acc: 0.8675\n",
      "Epoch 25/40\n",
      "15000/15000 [==============================] - 1s 46us/step - loss: 0.2862 - acc: 0.9000 - val_loss: 0.3353 - val_acc: 0.8707\n",
      "Epoch 26/40\n",
      "15000/15000 [==============================] - 1s 50us/step - loss: 0.2762 - acc: 0.9028 - val_loss: 0.3294 - val_acc: 0.8708\n",
      "Epoch 27/40\n",
      "15000/15000 [==============================] - 1s 52us/step - loss: 0.2673 - acc: 0.9042 - val_loss: 0.3238 - val_acc: 0.8734\n",
      "Epoch 28/40\n",
      "15000/15000 [==============================] - 1s 48us/step - loss: 0.2584 - acc: 0.9088 - val_loss: 0.3186 - val_acc: 0.8761\n",
      "Epoch 29/40\n",
      "15000/15000 [==============================] - 1s 47us/step - loss: 0.2506 - acc: 0.9115 - val_loss: 0.3148 - val_acc: 0.8741\n",
      "Epoch 30/40\n",
      "15000/15000 [==============================] - 1s 46us/step - loss: 0.2440 - acc: 0.9128 - val_loss: 0.3106 - val_acc: 0.8786\n",
      "Epoch 31/40\n",
      "15000/15000 [==============================] - 1s 43us/step - loss: 0.2361 - acc: 0.9175 - val_loss: 0.3076 - val_acc: 0.8790\n",
      "Epoch 32/40\n",
      "15000/15000 [==============================] - 1s 39us/step - loss: 0.2303 - acc: 0.9176 - val_loss: 0.3045 - val_acc: 0.8804\n",
      "Epoch 33/40\n",
      "15000/15000 [==============================] - 1s 39us/step - loss: 0.2231 - acc: 0.9208 - val_loss: 0.3018 - val_acc: 0.8807\n",
      "Epoch 34/40\n",
      "15000/15000 [==============================] - 1s 43us/step - loss: 0.2174 - acc: 0.9217 - val_loss: 0.3000 - val_acc: 0.8813\n",
      "Epoch 35/40\n",
      "15000/15000 [==============================] - 1s 60us/step - loss: 0.2123 - acc: 0.9239 - val_loss: 0.2975 - val_acc: 0.8810\n",
      "Epoch 36/40\n",
      "15000/15000 [==============================] - 1s 42us/step - loss: 0.2062 - acc: 0.9269 - val_loss: 0.2958 - val_acc: 0.8827\n",
      "Epoch 37/40\n",
      "15000/15000 [==============================] - 1s 42us/step - loss: 0.2011 - acc: 0.9293 - val_loss: 0.2942 - val_acc: 0.8829\n",
      "Epoch 38/40\n",
      "15000/15000 [==============================] - 1s 38us/step - loss: 0.1963 - acc: 0.9303 - val_loss: 0.2931 - val_acc: 0.8825\n",
      "Epoch 39/40\n",
      "15000/15000 [==============================] - 1s 38us/step - loss: 0.1911 - acc: 0.9337 - val_loss: 0.2915 - val_acc: 0.8839\n",
      "Epoch 40/40\n",
      "15000/15000 [==============================] - 1s 39us/step - loss: 0.1865 - acc: 0.9357 - val_loss: 0.2904 - val_acc: 0.8835\n"
     ]
    }
   ],
   "source": [
    "history = model.fit(partial_x_train,\n",
    "                    partial_y_train,\n",
    "                    epochs=40,\n",
    "                    batch_size=512,\n",
    "                    validation_data=(x_val, y_val),\n",
    "                    verbose=1)"
   ]
  },
  {
   "cell_type": "code",
   "execution_count": 25,
   "metadata": {},
   "outputs": [
    {
     "name": "stdout",
     "output_type": "stream",
     "text": [
      "25000/25000 [==============================] - 1s 36us/step\n",
      "[0.3052408904647827, 0.87476]\n"
     ]
    }
   ],
   "source": [
    "## evaluate the model \n",
    "results = model.evaluate(test_data, test_labels)\n",
    "\n",
    "print(results)"
   ]
  },
  {
   "cell_type": "markdown",
   "metadata": {},
   "source": [
    "## conclusion\n",
    "This is a typical classification approach so advanced or lets say deep learning model can achieve upto 95% of the accuracy. "
   ]
  }
 ],
 "metadata": {
  "kernelspec": {
   "display_name": "Python 2",
   "language": "python",
   "name": "python2"
  },
  "language_info": {
   "codemirror_mode": {
    "name": "ipython",
    "version": 2
   },
   "file_extension": ".py",
   "mimetype": "text/x-python",
   "name": "python",
   "nbconvert_exporter": "python",
   "pygments_lexer": "ipython2",
   "version": "2.7.10"
  }
 },
 "nbformat": 4,
 "nbformat_minor": 2
}
